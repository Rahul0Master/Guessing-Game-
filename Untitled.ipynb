{
 "cells": [
  {
   "cell_type": "code",
   "execution_count": 1,
   "id": "35bdc70d",
   "metadata": {},
   "outputs": [
    {
     "name": "stdout",
     "output_type": "stream",
     "text": [
      "Hint: The number is between 1 - 1000\n",
      "\n",
      "\tYou've only  10  chances to guess the integer!\n",
      "\n",
      "Guess a number:- 5555\n",
      "You Guessed too high!\n",
      "Guess a number:- 55555555\n",
      "You Guessed too high!\n",
      "Guess a number:- 0\n",
      "You guessed too small!\n",
      "Guess a number:- 098\n",
      "You Guessed too high!\n",
      "Guess a number:- 98\n",
      "You Guessed too high!\n",
      "Guess a number:- 55\n",
      "You guessed too small!\n",
      "Guess a number:- 75\n",
      "You Guessed too high!\n",
      "Guess a number:- 64\n",
      "You guessed too small!\n",
      "Guess a number:- 68\n",
      "You Guessed too high!\n",
      "Guess a number:- 66\n",
      "You Guessed too high!\n",
      "\n",
      "The number is 65\n",
      "\tBetter Luck Next time!\n"
     ]
    }
   ],
   "source": [
    "import random\n",
    "import math\n",
    "# Taking Inputs\n",
    "#lower = int(input(\"Enter Lower bound:- \"))\n",
    "lower = 1\n",
    " \n",
    "# Taking Inputs\n",
    "#upper = int(input(\"Enter Upper bound:- \"))\n",
    "upper = 1000\n",
    "\n",
    "print(\"Hint: The number is between 1 - 1000\")\n",
    " \n",
    "# generating random number between\n",
    "# the lower and upper\n",
    "x = random.randint(lower, upper)\n",
    "print(\"\\n\\tYou've only \",\n",
    "       round(math.log(upper - lower + 1, 2)),\n",
    "      \" chances to guess the integer!\\n\")\n",
    " \n",
    "# Initializing the number of guesses.\n",
    "count = 0\n",
    " \n",
    "# for calculation of minimum number of\n",
    "# guesses depends upon range\n",
    "while count < math.log(upper - lower + 1, 2):\n",
    "    count += 1\n",
    " \n",
    "    # taking guessing number as input\n",
    "    guess = int(input(\"Guess a number:- \"))\n",
    " \n",
    "    # Condition testing\n",
    "    if x == guess:\n",
    "        print(\"Congratulations you did it in \",\n",
    "              count, \" try\")\n",
    "        # Once guessed, loop will break\n",
    "        break\n",
    "    elif x > guess:\n",
    "        print(\"You guessed too small!\")\n",
    "    elif x < guess:\n",
    "        print(\"You Guessed too high!\")\n",
    " \n",
    "# If Guessing is more than required guesses,\n",
    "# shows this output.\n",
    "if count >= math.log(upper - lower + 1, 2):\n",
    "    print(\"\\nThe number is %d\" % x)\n",
    "    print(\"\\tBetter Luck Next time!\")\n",
    " "
   ]
  },
  {
   "cell_type": "code",
   "execution_count": null,
   "id": "79c3a647",
   "metadata": {},
   "outputs": [],
   "source": []
  },
  {
   "cell_type": "code",
   "execution_count": null,
   "id": "b00048bc",
   "metadata": {},
   "outputs": [],
   "source": []
  }
 ],
 "metadata": {
  "kernelspec": {
   "display_name": "Python 3 (ipykernel)",
   "language": "python",
   "name": "python3"
  },
  "language_info": {
   "codemirror_mode": {
    "name": "ipython",
    "version": 3
   },
   "file_extension": ".py",
   "mimetype": "text/x-python",
   "name": "python",
   "nbconvert_exporter": "python",
   "pygments_lexer": "ipython3",
   "version": "3.9.7"
  }
 },
 "nbformat": 4,
 "nbformat_minor": 5
}
